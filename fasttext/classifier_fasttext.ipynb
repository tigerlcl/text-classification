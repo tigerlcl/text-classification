{
  "nbformat": 4,
  "nbformat_minor": 0,
  "metadata": {
    "colab": {
      "name": "classifier-fasttext.ipynb",
      "version": "0.3.2",
      "provenance": [],
      "toc_visible": true
    },
    "kernelspec": {
      "name": "python3",
      "display_name": "Python 3"
    }
  },
  "cells": [
    {
      "metadata": {
        "id": "MUwzTIbJ4IoT",
        "colab_type": "code",
        "colab": {
          "base_uri": "https://localhost:8080/",
          "height": 343
        },
        "outputId": "ee4b78b3-5803-45f5-f55a-756686a54d85"
      },
      "cell_type": "code",
      "source": [
        "!pip3 install git+https://github.com/pybind/pybind11.git@060936f\n",
        "!pip3 install git+https://github.com/facebookresearch/fastText@3872afadb3a9f30de7c7792ff2ff1bda64242097"
      ],
      "execution_count": 1,
      "outputs": [
        {
          "output_type": "stream",
          "text": [
            "Collecting git+https://github.com/pybind/pybind11.git@060936f\n",
            "  Cloning https://github.com/pybind/pybind11.git (to revision 060936f) to /tmp/pip-req-build-pv7m0rqb\n",
            "\u001b[33m  Did not find branch or tag '060936f', assuming revision or ref.\u001b[0m\n",
            "Requirement already satisfied (use --upgrade to upgrade): pybind11==2.3.dev0 from git+https://github.com/pybind/pybind11.git@060936f in /usr/local/lib/python3.6/dist-packages\n",
            "Building wheels for collected packages: pybind11\n",
            "  Running setup.py bdist_wheel for pybind11 ... \u001b[?25l-\b \b\\\b \bdone\n",
            "\u001b[?25h  Stored in directory: /tmp/pip-ephem-wheel-cache-qwuaxhpk/wheels/b7/06/d9/3f14a808e1f37c11081f7d1dfd07201447a1e1fe1e82584860\n",
            "Successfully built pybind11\n",
            "Collecting git+https://github.com/facebookresearch/fastText@3872afadb3a9f30de7c7792ff2ff1bda64242097\n",
            "  Cloning https://github.com/facebookresearch/fastText (to revision 3872afadb3a9f30de7c7792ff2ff1bda64242097) to /tmp/pip-req-build-4l3yui4f\n",
            "Requirement already satisfied (use --upgrade to upgrade): fasttext==0.8.22 from git+https://github.com/facebookresearch/fastText@3872afadb3a9f30de7c7792ff2ff1bda64242097 in /usr/local/lib/python3.6/dist-packages\n",
            "Requirement already satisfied: pybind11>=2.2 in /usr/local/lib/python3.6/dist-packages (from fasttext==0.8.22) (2.3.dev0)\n",
            "Requirement already satisfied: setuptools>=0.7.0 in /usr/local/lib/python3.6/dist-packages (from fasttext==0.8.22) (39.1.0)\n",
            "Requirement already satisfied: numpy in /usr/local/lib/python3.6/dist-packages (from fasttext==0.8.22) (1.14.6)\n",
            "Building wheels for collected packages: fasttext\n",
            "  Running setup.py bdist_wheel for fasttext ... \u001b[?25l-\b \b\\\b \b|\b \b/\b \b-\b \b\\\b \b|\b \b/\b \b-\b \b\\\b \b|\b \b/\b \b-\b \b\\\b \b|\b \b/\b \b-\b \b\\\b \b|\b \b/\b \bdone\n",
            "\u001b[?25h  Stored in directory: /tmp/pip-ephem-wheel-cache-7bss9sbi/wheels/ff/62/cb/cabfc4cf3712852583a4090f222b5d6d57f4169112b5de97d8\n",
            "Successfully built fasttext\n"
          ],
          "name": "stdout"
        }
      ]
    },
    {
      "metadata": {
        "id": "Nlp8tY634S2U",
        "colab_type": "code",
        "colab": {}
      },
      "cell_type": "code",
      "source": [
        "from fastText import train_supervised\n",
        "\n",
        "model = train_supervised(\n",
        "input=\"train.txt\", # training data file\n",
        "epoch=25, # epoch: number of times going through the data\n",
        "lr=1.0, # learning rate\n",
        "wordNgrams=2, # n-gram features\n",
        "verbose=2, # whether to print out more messages\n",
        "minCount=1 # minimum number of times a token should appear\n",
        ")"
      ],
      "execution_count": 0,
      "outputs": []
    },
    {
      "metadata": {
        "id": "VD9UN6Vzv7ws",
        "colab_type": "code",
        "colab": {
          "base_uri": "https://localhost:8080/",
          "height": 204
        },
        "outputId": "f229d94d-d3d7-449b-e697-a8dffc014b72"
      },
      "cell_type": "code",
      "source": [
        "test = [line.strip() for line in open('test.txt')]\n",
        "labels , y_pred = model.predict(test)\n",
        "\n",
        "print('preview of prediction result:')\n",
        "for i in range(10):\n",
        "  print('label :{}, prob: {:.2f}'.format(labels[i][0], y_pred[i][0]))"
      ],
      "execution_count": 3,
      "outputs": [
        {
          "output_type": "stream",
          "text": [
            "preview of prediction result:\n",
            "label :__label__1, prob: 0.82\n",
            "label :__label__0, prob: 1.00\n",
            "label :__label__0, prob: 1.00\n",
            "label :__label__1, prob: 1.00\n",
            "label :__label__0, prob: 0.88\n",
            "label :__label__0, prob: 0.74\n",
            "label :__label__1, prob: 1.00\n",
            "label :__label__0, prob: 1.00\n",
            "label :__label__1, prob: 0.81\n",
            "label :__label__1, prob: 1.00\n"
          ],
          "name": "stdout"
        }
      ]
    },
    {
      "metadata": {
        "id": "VPBYhHOe4dgz",
        "colab_type": "text"
      },
      "cell_type": "markdown",
      "source": [
        "transform output labels into  0/1 list as well as the result in y_test for model evaluation"
      ]
    },
    {
      "metadata": {
        "id": "uCWbT0bKvbVi",
        "colab_type": "code",
        "colab": {}
      },
      "cell_type": "code",
      "source": [
        "import re\n",
        "# for y_test.txt\n",
        "y_t = []\n",
        "y_test = [line.strip() for line in open('y_test.txt')]\n",
        "a = [re.findall(r'\\d+',item) for item in y_test]\n",
        "for b in a:\n",
        "  for c in b:\n",
        "    y_t.append(int(c))\n",
        "    \n",
        "# for labels of model predictions\n",
        "temp = []\n",
        "for item1 in labels:\n",
        "  for item2 in item1:\n",
        "    temp.append(item2)\n",
        "\n",
        "y_p = []    \n",
        "a = [re.findall(r'\\d+',item) for item in temp]\n",
        "for b in a:\n",
        "  for c in b:\n",
        "    y_p.append(int(c))"
      ],
      "execution_count": 0,
      "outputs": []
    },
    {
      "metadata": {
        "id": "niYP6_Vn7iPa",
        "colab_type": "text"
      },
      "cell_type": "markdown",
      "source": [
        "**fasttest model evaluations**, similar to another ipynb file."
      ]
    },
    {
      "metadata": {
        "id": "MpcUbmVkw_wz",
        "colab_type": "code",
        "colab": {
          "base_uri": "https://localhost:8080/",
          "height": 170
        },
        "outputId": "09189d3d-ea92-421a-d453-fc9a50171603"
      },
      "cell_type": "code",
      "source": [
        "from sklearn.metrics import accuracy_score, classification_report\n",
        "\n",
        "print(\"AUC : {:.4f}\".format(accuracy_score(y_t, y_p)))\n",
        "print('='*30)\n",
        "print(classification_report(y_t,y_p))"
      ],
      "execution_count": 5,
      "outputs": [
        {
          "output_type": "stream",
          "text": [
            "AUC : 0.8966\n",
            "==============================\n",
            "             precision    recall  f1-score   support\n",
            "\n",
            "          0       0.89      0.90      0.90      7500\n",
            "          1       0.90      0.89      0.90      7500\n",
            "\n",
            "avg / total       0.90      0.90      0.90     15000\n",
            "\n"
          ],
          "name": "stdout"
        }
      ]
    },
    {
      "metadata": {
        "id": "8RuliP3ruJik",
        "colab_type": "text"
      },
      "cell_type": "markdown",
      "source": [
        ""
      ]
    }
  ]
}